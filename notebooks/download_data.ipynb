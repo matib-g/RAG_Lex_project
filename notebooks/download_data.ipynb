{
 "cells": [
  {
   "cell_type": "code",
   "execution_count": null,
   "id": "7dab4eac",
   "metadata": {},
   "outputs": [],
   "source": [
    "import requests\n",
    "import os\n",
    "import time\n",
    "import json\n",
    "\n",
    "import warnings\n",
    "warnings.filterwarnings('ignore')"
   ]
  },
  {
   "cell_type": "code",
   "execution_count": null,
   "id": "f7cc52b0",
   "metadata": {},
   "outputs": [],
   "source": [
    "BASE = \"https://api.sejm.gov.pl/eli/acts\"\n",
    "RAW_DATA = \"/Users/mateuszbulanda-gorol/Desktop/Projects/rag_lex_project/data/raw_data\""
   ]
  },
  {
   "cell_type": "code",
   "execution_count": null,
   "id": "61b2d1f9",
   "metadata": {},
   "outputs": [],
   "source": [
    "def mkdir_if_not(path):\n",
    "    if not os.path.exists(path):\n",
    "        os.makedirs(path)"
   ]
  },
  {
   "cell_type": "code",
   "execution_count": null,
   "id": "1b70eda3",
   "metadata": {},
   "outputs": [],
   "source": [
    "def fetch_acts_for_year(publisher:str, year:int, limit:int = 100, offset:int = 0):\n",
    "    \"\"\"\n",
    "    Retrieves a list of acts for a given publisher and year, returning JSON.\n",
    "    \"\"\"\n",
    "    url = f\"{BASE}/{publisher}/{year}\"\n",
    "    params = {\n",
    "        \"limit\": limit,\n",
    "        \"offset\": offset\n",
    "    }\n",
    "    resp = requests.get(url, params=params, headers={\"Accept\": \"application/json\"})\n",
    "    resp.raise_for_status()\n",
    "    return resp.json()"
   ]
  },
  {
   "cell_type": "code",
   "execution_count": null,
   "id": "c99e470c",
   "metadata": {},
   "outputs": [],
   "source": [
    "def fetch_act_text(publisher:str, year:int, num:int, as_pdf:bool = False):\n",
    "    \"\"\"\n",
    "    Retrieves the text of the document — HTML or PDF, depending on the as_pdf flag.\n",
    "    Returns bytes or text.\n",
    "    \"\"\"\n",
    "    ext = \"pdf\" if as_pdf else \"html\"\n",
    "    url = f\"{BASE}/{publisher}/{year}/{num}/text.{ext}\"\n",
    "    resp = requests.get(url, headers={\"Accept\": \"text/html\" if not as_pdf else \"application/octet-stream\"})\n",
    "    resp.raise_for_status()\n",
    "    return resp.content if as_pdf else resp.text"
   ]
  },
  {
   "cell_type": "code",
   "execution_count": null,
   "id": "a34ada84",
   "metadata": {},
   "outputs": [],
   "source": [
    "def fetch_and_save(publisher:str, year:int, limit:int=100, offset:int=0, save_dir:str=\"data_raw\"):\n",
    "    \"\"\"\n",
    "    The main function is to download files and save them locally.\n",
    "    \"\"\"\n",
    "    # utwórz foldery\n",
    "    mkdir_if_not(save_dir)\n",
    "    # pobierz listę aktów\n",
    "    acts_data = fetch_acts_for_year(publisher, year, limit, offset)\n",
    "    items = acts_data.get(\"items\", [])\n",
    "    manifest = []\n",
    "    for act in items:\n",
    "        # act ma pola m.in. 'pos' – numer aktu w danym roku, 'textHTML', 'textPDF'\n",
    "        pos = act.get(\"pos\")\n",
    "        eli = act.get(\"ELI\")\n",
    "        title = act.get(\"title\")\n",
    "        has_html = act.get(\"textHTML\", False)\n",
    "        has_pdf = act.get(\"textPDF\", False)\n",
    "\n",
    "        # preferuj html, jeśli dostępne, inaczej pdf\n",
    "        try:\n",
    "            if has_html:\n",
    "                content = fetch_act_text(publisher, year, pos, as_pdf=False)\n",
    "                fname = f\"{publisher}_{year}_{pos}.html\"\n",
    "                mode = \"w\"\n",
    "                encoding = \"utf-8\"\n",
    "            elif has_pdf:\n",
    "                content = fetch_act_text(publisher, year, pos, as_pdf=True)\n",
    "                fname = f\"{publisher}_{year}_{pos}.pdf\"\n",
    "                mode = \"wb\"\n",
    "                encoding = None\n",
    "            else:\n",
    "                # brak tekstu, pomiń\n",
    "                print(f\"No text for act {publisher} {year} {pos}\")\n",
    "                continue\n",
    "\n",
    "            path = os.path.join(save_dir, fname)\n",
    "            # zapisz plik\n",
    "            if encoding:\n",
    "                with open(path, mode, encoding=encoding) as f:\n",
    "                    f.write(content)\n",
    "            else:\n",
    "                with open(path, mode) as f:\n",
    "                    f.write(content)\n",
    "\n",
    "            manifest.append({\n",
    "                \"publisher\": publisher,\n",
    "                \"year\": year,\n",
    "                \"pos\": pos,\n",
    "                \"ELI\": eli,\n",
    "                \"title\": title,\n",
    "                \"filename\": fname,\n",
    "                \"path\": path,\n",
    "                \"has_html\": has_html,\n",
    "                \"has_pdf\": has_pdf\n",
    "            })\n",
    "\n",
    "            # niewielki delay, by nie przeciążyć API\n",
    "            time.sleep(0.2)\n",
    "        except Exception as e:\n",
    "            print(f\"Error fetching act {publisher} {year} {pos}: {e}\")\n",
    "        \n",
    "    # zapisz manifest\n",
    "    manifest_path = os.path.join(save_dir, f\"{publisher}_{year}_manifest.json\")\n",
    "    with open(manifest_path, \"w\", encoding=\"utf-8\") as mf:\n",
    "        json.dump(manifest, mf, ensure_ascii=False, indent=2)\n",
    "\n",
    "    return manifest"
   ]
  },
  {
   "cell_type": "code",
   "execution_count": null,
   "id": "3847b7de",
   "metadata": {},
   "outputs": [],
   "source": [
    "publisher = \"DU\"\n",
    "year = 2020\n",
    "manifest = fetch_and_save(publisher, year, limit=50, offset=0, save_dir=f\"{RAW_DATA}\")\n",
    "print(\"Fetched acts:\", len(manifest))"
   ]
  }
 ],
 "metadata": {
  "kernelspec": {
   "display_name": "rag_lex_project",
   "language": "python",
   "name": "python3"
  },
  "language_info": {
   "name": "python",
   "version": "3.13.7"
  }
 },
 "nbformat": 4,
 "nbformat_minor": 5
}
