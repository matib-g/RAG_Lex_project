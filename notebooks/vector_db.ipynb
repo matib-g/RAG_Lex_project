{
 "cells": [
  {
   "cell_type": "code",
   "execution_count": null,
   "id": "199f3c96",
   "metadata": {},
   "outputs": [],
   "source": [
    "import json\n",
    "import chromadb\n",
    "from sentence_transformers import SentenceTransformer"
   ]
  },
  {
   "cell_type": "code",
   "execution_count": null,
   "id": "c907b8d7",
   "metadata": {},
   "outputs": [],
   "source": [
    "JSON_PATRH = \"data/prepared_dataset.json\"\n",
    "CHROMA_PATH = \"/Users/mateuszbulanda-gorol/Desktop/Projects/rag_lex_project/vectordb/chroma_db\"\n",
    "COLLECTION_NAME = \"isap_acts\"\n",
    "MODEL = \"clarin-pl/roberta-polish-sentence-transformer-v1\"\n",
    "BATCH_SIZE = 64"
   ]
  },
  {
   "cell_type": "code",
   "execution_count": null,
   "id": "180872c8",
   "metadata": {},
   "outputs": [],
   "source": [
    "with open(JSON_PATRH, \"r\", encoding=\"utf-8\") as f:\n",
    "    dataset = json.load(f)"
   ]
  },
  {
   "cell_type": "code",
   "execution_count": null,
   "id": "ed9f9c96",
   "metadata": {},
   "outputs": [],
   "source": [
    "model = SentenceTransformer(MODEL)\n",
    "client = chromadb.PersistentClient(path=CHROMA_PATH)\n",
    "collection = client.get_or_create_collection(name=COLLECTION_NAME)"
   ]
  },
  {
   "cell_type": "code",
   "execution_count": null,
   "id": "10a35e55",
   "metadata": {},
   "outputs": [],
   "source": [
    "texts = [item[\"text\"] for item in dataset]\n",
    "ids = [f\"{item['metadata']['filename']}_{item['metadata']['chunk_id']}\" for item in dataset]\n",
    "metadatas = [item[\"metadata\"] for item in dataset]"
   ]
  },
  {
   "cell_type": "code",
   "execution_count": null,
   "id": "5fd517f0",
   "metadata": {},
   "outputs": [],
   "source": [
    "for i in range(len(texts), BATCH_SIZE):\n",
    "    batch_texts = texts[i:i+BATCH_SIZE]\n",
    "    batch_embeddings = model.encode(batch_texts, show_progress_bar=False).tolist()\n",
    "    batch_ids = ids[i:i+BATCH_SIZE]\n",
    "    batch_metadatas = metadatas[i:i+BATCH_SIZE]\n",
    "\n",
    "    collection.add(\n",
    "        ids=batch_ids\n",
    "        ,documents=batch_texts\n",
    "        ,metadatas=batch_metadatas\n",
    "        ,embeddings=batch_embeddings\n",
    "    )\n",
    "\n",
    "print(\"✅ Baza wektorowa została utworzona i zapisana w:\", CHROMA_PATH)"
   ]
  },
  {
   "cell_type": "code",
   "execution_count": null,
   "id": "1243d65b",
   "metadata": {},
   "outputs": [],
   "source": [
    "##############################################################################"
   ]
  },
  {
   "cell_type": "code",
   "execution_count": null,
   "id": "a6721cd0",
   "metadata": {},
   "outputs": [],
   "source": [
    "# Zapytanie do bazy\n",
    "\n",
    "from unittest import result\n",
    "\n",
    "\n",
    "query = \"Jakie są przepisy dotyczące ochrony środowiska?\"\n",
    "query_embedding = model.encode([query]).tolist()\n",
    "\n",
    "results = collection.query(query_embeddings=query_embedding, n_results=3)\n",
    "\n",
    "for doc, meta in zip(result[\"documents\"][0], results[\"metadatas\"][0]):\n",
    "    print(\"----\")\n",
    "    print(\"Fragment:\", doc[:300], \"...\")\n",
    "    print(\"Metadane:\", meta)"
   ]
  }
 ],
 "metadata": {
  "kernelspec": {
   "display_name": "rag_lex_project",
   "language": "python",
   "name": "python3"
  },
  "language_info": {
   "name": "python",
   "version": "3.13.7"
  }
 },
 "nbformat": 4,
 "nbformat_minor": 5
}
