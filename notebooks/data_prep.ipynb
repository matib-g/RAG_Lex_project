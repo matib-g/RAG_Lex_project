{
 "cells": [
  {
   "cell_type": "code",
   "execution_count": 1,
   "id": "aba0c527",
   "metadata": {},
   "outputs": [],
   "source": [
    "import os\n",
    "import re\n",
    "import json\n",
    "from bs4 import BeautifulSoup"
   ]
  },
  {
   "cell_type": "code",
   "execution_count": 2,
   "id": "85cf628b",
   "metadata": {},
   "outputs": [],
   "source": [
    "input_dir = \"/Users/mateuszbulanda-gorol/Desktop/Projects/rag_lex_project/data/raw_data\"\n",
    "output_file = \"/Users/mateuszbulanda-gorol/Desktop/Projects/rag_lex_project/data/prepared_dataset.json\""
   ]
  },
  {
   "cell_type": "code",
   "execution_count": 3,
   "id": "515c5fb9",
   "metadata": {},
   "outputs": [
    {
     "name": "stderr",
     "output_type": "stream",
     "text": [
      "<>:11: SyntaxWarning: invalid escape sequence '\\s'\n",
      "<>:11: SyntaxWarning: invalid escape sequence '\\s'\n",
      "/var/folders/ms/zrsm9ljx6bjds2r5n__t93th0000gn/T/ipykernel_68775/714111337.py:11: SyntaxWarning: invalid escape sequence '\\s'\n",
      "  text = re.sub(f\"\\s+\", \" \", text)\n"
     ]
    }
   ],
   "source": [
    "def html_to_text(html_content:str) -> str:\n",
    "    \"\"\"\n",
    "    Parses HTML into plain text, removes unnecessary spaces and new lines.\n",
    "    \"\"\"\n",
    "    soup = BeautifulSoup(html_content, \"html.parser\")\n",
    "\n",
    "    for tag in soup([\"style\", \"script\", \"head\", \"title\", \"meta\"]):\n",
    "        tag.decompose()\n",
    "\n",
    "    text = soup.get_text(separator=\"\\n\")\n",
    "    text = re.sub(f\"\\s+\", \" \", text)\n",
    "    text = text.strip()\n",
    "    return text"
   ]
  },
  {
   "cell_type": "code",
   "execution_count": 4,
   "id": "30e1c0f6",
   "metadata": {},
   "outputs": [],
   "source": [
    "def chunk_text(text:str, max_chars:int=1000, overlap:int=100):\n",
    "    \"\"\"\n",
    "    Splits the text into blocks with a maximum length of `max_chars`, with overlap.\n",
    "    \"\"\"\n",
    "    chunks = []\n",
    "    start = 0\n",
    "    while start < len(text):\n",
    "        end = start + max_chars\n",
    "        chunk = text[start:end]\n",
    "        chunks.append(chunk.strip())\n",
    "        start = end - overlap\n",
    "    return chunks"
   ]
  },
  {
   "cell_type": "code",
   "execution_count": 5,
   "id": "7e58e39c",
   "metadata": {},
   "outputs": [],
   "source": [
    "def process_html_files(input_dir:str, output_file:str, max_chars:int=1000):\n",
    "    \"\"\"\n",
    "    Converts all HTML files in the directory into a list of chunks with metadata.\n",
    "    \"\"\"\n",
    "    dataset = []\n",
    "    for fname in os.listdir(input_dir):\n",
    "        if not fname.endswith(\".html\"):\n",
    "            continue\n",
    "        path = os.path.join(input_dir, fname)\n",
    "        with open(path, \"r\", encoding=\"utf-8\") as f:\n",
    "            html = f.read()\n",
    "        \n",
    "        text = html_to_text(html)\n",
    "        chunks = chunk_text(text, max_chars=max_chars)\n",
    "        parts = fname.replace(\".html\", \"\").split(\"_\")\n",
    "        metadata = {}\n",
    "\n",
    "        if len(parts) >= 3:\n",
    "            metadata = {\n",
    "                \"publisher\": parts[0]\n",
    "                ,\"year\": parts[1]\n",
    "                ,\"pos\": parts[2]\n",
    "                ,\"filename\": fname\n",
    "            }\n",
    "        \n",
    "        for i, chunk in enumerate(chunks):\n",
    "            dataset.append({\n",
    "                \"text\": chunk\n",
    "                ,\"metadata\": {**metadata, \"chunk_id\": i}\n",
    "            })\n",
    "\n",
    "    with open(output_file, \"w\", encoding=\"utf-8\") as f:\n",
    "        json.dump(dataset, f, ensure_ascii=False, indent=2)\n",
    "    \n",
    "    print(f\"{len(dataset)} Chunks saved to {output_file}\")\n",
    "    return dataset"
   ]
  },
  {
   "cell_type": "code",
   "execution_count": 6,
   "id": "7f44bbd4",
   "metadata": {},
   "outputs": [
    {
     "name": "stdout",
     "output_type": "stream",
     "text": [
      "92948 Chunks saved to /Users/mateuszbulanda-gorol/Desktop/Projects/rag_lex_project/data/prepared_dataset.json\n",
      "Example:  {'text': 'Rozporządzenie Ministra Finansów, Funduszy i Polityki Regionalnej z dnia 17 grudnia 2020 r. zmieniające rozporządzenie w sprawie udzielania pomocy na działalność badawczo-rozwojową związaną z wystąpieniem pandemii COVID-19, pomocy inwestycyjnej na infrastrukturę służącą do testowania i przygotowania do masowej produkcji produktów służących zwalczaniu pandemii COVID-19 oraz pomocy inwestycyjnej na produkcję produktów służących zwalczaniu pandemii COVID-19, w ramach programów operacyjnych na lata 2014-2020 1) Minister Finansów, Funduszy i Polityki Regionalnej kieruje działem administracji rządowej - rozwój regionalny, na podstawie § 1 ust. 2 pkt 4 rozporządzenia Prezesa Rady Ministrów z dnia 6 października 2020 r. w sprawie szczegółowego zakresu działania Ministra Finansów, Funduszy i Polityki Regionalnej (Dz. U. poz. 1719). Treść rozporządzenia Na podstawie art. 31 ustawy z dnia 3 kwietnia 2020 r. o szczególnych rozwiązaniach wspierających realizację programów operacyjnych w związku z w', 'metadata': {'publisher': 'DU', 'year': '2020', 'pos': '2324', 'filename': 'DU_2020_2324.html', 'chunk_id': 0}}\n"
     ]
    }
   ],
   "source": [
    "dataset = process_html_files(input_dir, output_file, max_chars=1000)\n",
    "print(\"Example: \", dataset[0])"
   ]
  }
 ],
 "metadata": {
  "kernelspec": {
   "display_name": "rag_lex_project",
   "language": "python",
   "name": "python3"
  },
  "language_info": {
   "codemirror_mode": {
    "name": "ipython",
    "version": 3
   },
   "file_extension": ".py",
   "mimetype": "text/x-python",
   "name": "python",
   "nbconvert_exporter": "python",
   "pygments_lexer": "ipython3",
   "version": "3.13.7"
  }
 },
 "nbformat": 4,
 "nbformat_minor": 5
}
